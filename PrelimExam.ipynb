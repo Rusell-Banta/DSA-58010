{
  "nbformat": 4,
  "nbformat_minor": 0,
  "metadata": {
    "colab": {
      "provenance": [],
      "authorship_tag": "ABX9TyMK+aOC4jhAoIGVrYtsegfI",
      "include_colab_link": true
    },
    "kernelspec": {
      "name": "python3",
      "display_name": "Python 3"
    },
    "language_info": {
      "name": "python"
    }
  },
  "cells": [
    {
      "cell_type": "markdown",
      "metadata": {
        "id": "view-in-github",
        "colab_type": "text"
      },
      "source": [
        "<a href=\"https://colab.research.google.com/github/Rusell-Banta/DSA-58010/blob/main/PrelimExam.ipynb\" target=\"_parent\"><img src=\"https://colab.research.google.com/assets/colab-badge.svg\" alt=\"Open In Colab\"/></a>"
      ]
    },
    {
      "cell_type": "code",
      "execution_count": 27,
      "metadata": {
        "colab": {
          "base_uri": "https://localhost:8080/"
        },
        "id": "X8zOzbcROx9e",
        "outputId": "c4932cef-e05f-47a5-dffc-ef824ee79419"
      },
      "outputs": [
        {
          "output_type": "stream",
          "name": "stdout",
          "text": [
            "[1, 2, 3, 4, 5, 6, 7, 8, 9, 10]\n",
            "The number of even numbers are: 5\n"
          ]
        }
      ],
      "source": [
        "arr = [1,2,3,4,5,6,7,8,9,10]\n",
        "even = 0\n",
        "print(arr)\n",
        "\n",
        "for cell in arr:\n",
        "  if cell % 2 == 0:\n",
        "     even +=1\n",
        "     \n",
        "print (\"The number of even numbers are:\" ,even)\n",
        "\n"
      ]
    }
  ]
}
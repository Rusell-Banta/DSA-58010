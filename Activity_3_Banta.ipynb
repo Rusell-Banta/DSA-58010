{
  "nbformat": 4,
  "nbformat_minor": 0,
  "metadata": {
    "colab": {
      "provenance": [],
      "authorship_tag": "ABX9TyPx4Oyg08CHMHl093hRA6Qh",
      "include_colab_link": true
    },
    "kernelspec": {
      "name": "python3",
      "display_name": "Python 3"
    },
    "language_info": {
      "name": "python"
    }
  },
  "cells": [
    {
      "cell_type": "markdown",
      "metadata": {
        "id": "view-in-github",
        "colab_type": "text"
      },
      "source": [
        "<a href=\"https://colab.research.google.com/github/Rusell-Banta/DSA-58010/blob/main/Activity_3_Banta.ipynb\" target=\"_parent\"><img src=\"https://colab.research.google.com/assets/colab-badge.svg\" alt=\"Open In Colab\"/></a>"
      ]
    },
    {
      "cell_type": "markdown",
      "source": [
        "Given/Original Code"
      ],
      "metadata": {
        "id": "PqnA8Thj8Wgo"
      }
    },
    {
      "cell_type": "code",
      "source": [
        "# Stack implementation in python\n",
        "\n",
        "# Creating a stack\n",
        "def create_stack():\n",
        "  stack = []\n",
        "  return stack\n",
        "\n",
        "# Creating an empty stack\n",
        "def is_empty(stack):\n",
        "  return len(stack) == 0\n",
        "\n",
        "# Adding items into the stack\n",
        "def push(stack, item):\n",
        "  stack.append(item)\n",
        "  print(\"Pushed Element: \" + item)\n",
        "\n",
        "# Removing an element from the stack\n",
        "def pop(stack):\n",
        "  if (is_empty(stack)):\n",
        "    return \"The stack is empty\"\n",
        "  return stack.pop()\n",
        "\n",
        "stack = create_stack()\n",
        "push(stack, str(1))\n",
        "push(stack, str(2))\n",
        "push(stack, str(3))\n",
        "push(stack, str(4))\n",
        "push(stack, str(5))\n",
        "\n",
        "print(\"\\nThe elements in the stack are: \"+ str(stack))"
      ],
      "metadata": {
        "colab": {
          "base_uri": "https://localhost:8080/"
        },
        "id": "BzWzuMRS8jdB",
        "outputId": "5be6b1db-b378-4fbb-d1c4-e2ce2c2a41c7"
      },
      "execution_count": 1,
      "outputs": [
        {
          "output_type": "stream",
          "name": "stdout",
          "text": [
            "Pushed Element: 1\n",
            "Pushed Element: 2\n",
            "Pushed Element: 3\n",
            "Pushed Element: 4\n",
            "Pushed Element: 5\n",
            "\n",
            "The elements in the stack are: ['1', '2', '3', '4', '5']\n"
          ]
        }
      ]
    },
    {
      "cell_type": "markdown",
      "source": [
        "1.) Upon typing the codes, what is the name of the abstract data type? How is it implemented?\n",
        "\n",
        "Answer: Stack is the abstract data type of the given python program. Stack is a linear data structure type that uses LIFO. LIFO means that it should remove the last element from the given elements. to add elements it used stack.append() but you can also use push() and the pop() is used to remove the last element in the elements given in the program by the use of stack.append()"
      ],
      "metadata": {
        "id": "FlPJ-M9y8tuX"
      }
    },
    {
      "cell_type": "markdown",
      "source": [
        "2.) What is the output of the code given?\n",
        "\n",
        "\n",
        "Answer: \n",
        "Pushed Element: 1\n",
        "Pushed Element: 2\n",
        "Pushed Element: 3\n",
        "Pushed Element: 4\n",
        "Pushed Element: 5\n",
        "\n",
        "The elements in the stack are: ['1', '2', '3', '4', '5']\n"
      ],
      "metadata": {
        "id": "AGkHu1vj-HPn"
      }
    },
    {
      "cell_type": "markdown",
      "source": [
        "3.) If you want to type additional codes, what will be the statement to pop 3 elements from the top of the stack?\n",
        "\n",
        "Answer/Explanation:\n",
        "i added a code to pop the 3 elements from the top of the stock by:\n",
        "first adding an attribute to pop an element in the program and defined it \n",
        "def pop(stack):\n",
        "    if (is_empty(stack)):\n",
        "        return \"The stack is empty\"\n",
        "    return stack.pop()\n",
        "and then to pop the three elements from the top i used:\n",
        "stack.pop(2)      \n",
        "stack.pop(1)      \n",
        "stack.pop(0)  \n",
        "this one is used to pop the first element because in the indication of elements in the python program is from 0 to etc. That's why it is zero because i want to remove the first element and that goes the same way in 1 and 2. the 1 shows that i want to remove the 2nd element and the 2 shows that i want to remove the 3rd "
      ],
      "metadata": {
        "id": "Cky-7fBa-SP6"
      }
    },
    {
      "cell_type": "code",
      "source": [
        "# Stack implementation in python\n",
        "\n",
        "# Creating a stack\n",
        "def create_stack():\n",
        "    stack = []\n",
        "    return stack\n",
        "\n",
        "# Creating an empty stack\n",
        "def is_empty(stack):\n",
        "    return len(stack) == 0\n",
        "\n",
        "# Adding items into the stack\n",
        "def push(stack, item):\n",
        "    stack.append(item)\n",
        "    print(\"Pushed Element: \" + item)\n",
        "\n",
        "# Removing/Popping an element from the stack\n",
        "def pop(stack):\n",
        "    if (is_empty(stack)):\n",
        "        return \"The stack is empty\"\n",
        "    return stack.pop()\n",
        "\n",
        "stack = create_stack()\n",
        "push(stack, str(1))\n",
        "push(stack, str(2))\n",
        "push(stack, str(3))\n",
        "push(stack, str(4))\n",
        "push(stack, str(5))\n",
        "\n",
        "print(\"\\nThe elements in the stack are: \"+ str(stack))\n",
        "\n",
        "# Popping three elements from the top\n",
        "stack.pop(2)      #to pop the first element i used stack.pop(0) because the implementation of the elements is the first element is 0 and so on and so forth\n",
        "stack.pop(1)     \n",
        "stack.pop(0)   \n",
        "print(\"After popping, the elements left in the stack are\", stack)"
      ],
      "metadata": {
        "colab": {
          "base_uri": "https://localhost:8080/"
        },
        "id": "xVipCFFJ-Q0A",
        "outputId": "bfafe192-8317-43c9-fdb2-5eae00afd77a"
      },
      "execution_count": 8,
      "outputs": [
        {
          "output_type": "stream",
          "name": "stdout",
          "text": [
            "Pushed Element: 1\n",
            "Pushed Element: 2\n",
            "Pushed Element: 3\n",
            "Pushed Element: 4\n",
            "Pushed Element: 5\n",
            "\n",
            "The elements in the stack are: ['1', '2', '3', '4', '5']\n",
            "After popping, the elements left in the stack are ['4', '5']\n"
          ]
        }
      ]
    },
    {
      "cell_type": "markdown",
      "source": [
        "4.) If you will revise the codes, what will be the statement to determine the length of the stack? (Note: You may add additional methods to count the no. of elements in the stack)\n",
        "\n",
        "Answer: to count the number of elements in the stack i used the attribute:\n",
        "str = str(stack)\n",
        "\n",
        "def stack(str):\n",
        "  stack = set(\"12345\")\n",
        "  count = 0 \n",
        "          \n",
        "  for elements in str:\n",
        "    if elements in stack:\n",
        "      count = count + 1"
      ],
      "metadata": {
        "id": "7_3SUSURAZlq"
      }
    },
    {
      "cell_type": "code",
      "source": [
        "# Stack implementation in python\n",
        "\n",
        "# Creating a stack\n",
        "def create_stack():\n",
        "  stack = []\n",
        "  return stack\n",
        "\n",
        "# Creating an empty stack\n",
        "def is_empty(stack):\n",
        "  return len(stack) == 0\n",
        "\n",
        "# Adding items into the stack\n",
        "def push(stack, item):\n",
        "  stack.append(item)\n",
        "  print(\"Pushed Element: \" + item)\n",
        "\n",
        "# Removing/Popping an element from the stack\n",
        "def pop(stack):\n",
        "  if (is_empty(stack)):\n",
        "    return \"The stack is empty\"\n",
        "  return stack.pop()\n",
        "\n",
        "stack = create_stack()\n",
        "push(stack, str(1))\n",
        "push(stack, str(2))\n",
        "push(stack, str(3))\n",
        "push(stack, str(4))\n",
        "push(stack, str(5))\n",
        "\n",
        "print(\"\\nThe elements in the stack are: \"+ str(stack))\n",
        "\n",
        "# Counting the number of elements in the stack\n",
        "str = str(stack)\n",
        "\n",
        "def stack(str):\n",
        "  stack = set(\"12345\")\n",
        "  count = 0 \n",
        "          \n",
        "  for elements in str:\n",
        "    if elements in stack:\n",
        "      count = count + 1\n",
        "      \n",
        "  print(\"The number of elements in the stack is\", count)\n",
        "\n",
        "stack(str)"
      ],
      "metadata": {
        "colab": {
          "base_uri": "https://localhost:8080/"
        },
        "id": "G2KW9w9EAdIC",
        "outputId": "a2e0549b-5932-466f-81db-f2a3a11ce153"
      },
      "execution_count": 9,
      "outputs": [
        {
          "output_type": "stream",
          "name": "stdout",
          "text": [
            "Pushed Element: 1\n",
            "Pushed Element: 2\n",
            "Pushed Element: 3\n",
            "Pushed Element: 4\n",
            "Pushed Element: 5\n",
            "\n",
            "The elements in the stack are: ['1', '2', '3', '4', '5']\n",
            "The number of elements in the stack is 5\n"
          ]
        }
      ]
    },
    {
      "cell_type": "markdown",
      "source": [],
      "metadata": {
        "id": "6ZJSSFPA_xm1"
      }
    }
  ]
}
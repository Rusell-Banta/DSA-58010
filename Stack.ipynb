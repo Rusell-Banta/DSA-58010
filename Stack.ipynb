{
  "nbformat": 4,
  "nbformat_minor": 0,
  "metadata": {
    "colab": {
      "provenance": [],
      "authorship_tag": "ABX9TyMGeyyQDuzVC1PaOfuW6/0K",
      "include_colab_link": true
    },
    "kernelspec": {
      "name": "python3",
      "display_name": "Python 3"
    },
    "language_info": {
      "name": "python"
    }
  },
  "cells": [
    {
      "cell_type": "markdown",
      "metadata": {
        "id": "view-in-github",
        "colab_type": "text"
      },
      "source": [
        "<a href=\"https://colab.research.google.com/github/Rusell-Banta/DSA-58010/blob/main/Stack.ipynb\" target=\"_parent\"><img src=\"https://colab.research.google.com/assets/colab-badge.svg\" alt=\"Open In Colab\"/></a>"
      ]
    },
    {
      "cell_type": "code",
      "execution_count": 81,
      "metadata": {
        "colab": {
          "base_uri": "https://localhost:8080/"
        },
        "id": "olxxYHd89xog",
        "outputId": "97a0c2e5-cf29-427b-b498-ad4055e21eaa"
      },
      "outputs": [
        {
          "output_type": "stream",
          "name": "stdout",
          "text": [
            "The List of elements in stack are: \n",
            "['Sunny', 'Windy', 'Rainy']\n",
            "The new elements from the stack are: \n",
            "['Sunny', 'Windy']\n"
          ]
        }
      ],
      "source": [
        "class Stack:\n",
        "  def __init__(self):\n",
        "      self.stack = []\n",
        "\n",
        "  def add(self, dataval):\n",
        "# Use list append method to add element\n",
        "      if dataval not in self.stack:\n",
        "         self.stack.append(dataval)\n",
        "         return True\n",
        "      else:\n",
        "         return False\n",
        "\n",
        "# Use list pop method to remove element\n",
        "  def remove(self):\n",
        "      if len(self.stack) <= 0:\n",
        "         return (\"No element in the Stack\")\n",
        "      else:\n",
        "         return self.stack.pop()\n",
        "\n",
        "AStack = []\n",
        "#to APPEND\n",
        "AStack.append('Sunny')\n",
        "AStack.append('Windy')\n",
        "AStack.append('Rainy')\n",
        "print('The List of elements in stack are: ')\n",
        "print(AStack)\n",
        "#to remove elements/pop\n",
        "AStack.pop()\n",
        "print('The new elements from the stack are: ')\n",
        "print(AStack)  "
      ]
    }
  ]
}
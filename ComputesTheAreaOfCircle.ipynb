{
  "nbformat": 4,
  "nbformat_minor": 0,
  "metadata": {
    "colab": {
      "name": "ComputesTheAreaOfCircle.ipynb",
      "provenance": [],
      "authorship_tag": "ABX9TyNkFw9n2xaFDX3E5dL8DQqL",
      "include_colab_link": true
    },
    "kernelspec": {
      "name": "python3",
      "display_name": "Python 3"
    },
    "language_info": {
      "name": "python"
    }
  },
  "cells": [
    {
      "cell_type": "markdown",
      "metadata": {
        "id": "view-in-github",
        "colab_type": "text"
      },
      "source": [
        "<a href=\"https://colab.research.google.com/github/Rusell-Banta/DSA-58010/blob/main/ComputesTheAreaOfCircle.ipynb\" target=\"_parent\"><img src=\"https://colab.research.google.com/assets/colab-badge.svg\" alt=\"Open In Colab\"/></a>"
      ]
    },
    {
      "cell_type": "code",
      "execution_count": 22,
      "metadata": {
        "colab": {
          "base_uri": "https://localhost:8080/"
        },
        "id": "4eO9YC0TTqDv",
        "outputId": "0373ca26-b6a8-4f6a-dc9f-0447032d8030"
      },
      "outputs": [
        {
          "output_type": "stream",
          "name": "stdout",
          "text": [
            "3\n",
            "The area of the circle is:  28.26\n"
          ]
        }
      ],
      "source": [
        "class Circle():\n",
        "  def __init__ (self, radius):\n",
        "    self.radius = int (radius)\n",
        "\n",
        "  def Area (self):\n",
        "    return pi * (self.radius ** 2)\n",
        "\n",
        "  def display (self):\n",
        "    print (\"The area of the circle is: \", self.Area())\n",
        "\n",
        "pi = 3.14\n",
        "round= Circle (input())\n",
        "round.display()"
      ]
    },
    {
      "cell_type": "code",
      "source": [
        "class Circle():\n",
        "  def __init__ (self, diameter):\n",
        "    self.diameter = int (diameter)\n",
        "\n",
        "  def Area (self):\n",
        "    return ((pi * (self.diameter*self.diameter))/4)\n",
        "\n",
        "  def display (self):\n",
        "    print (\"The diameter of the circle is: \", self.Area())\n",
        "\n",
        "pi = 3.14\n",
        "round= Circle (input())\n",
        "round.display()"
      ],
      "metadata": {
        "colab": {
          "base_uri": "https://localhost:8080/"
        },
        "id": "1tDCUkqhZ74P",
        "outputId": "c88684fd-d5a0-4528-d260-ae9b3b3721fa"
      },
      "execution_count": 21,
      "outputs": [
        {
          "output_type": "stream",
          "name": "stdout",
          "text": [
            "3\n",
            "The diameter of the circle is:  7.065\n"
          ]
        }
      ]
    }
  ]
}
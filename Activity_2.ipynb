{
  "nbformat": 4,
  "nbformat_minor": 0,
  "metadata": {
    "colab": {
      "provenance": [],
      "authorship_tag": "ABX9TyO/KIC9s038/HPesn+0WwEe",
      "include_colab_link": true
    },
    "kernelspec": {
      "name": "python3",
      "display_name": "Python 3"
    },
    "language_info": {
      "name": "python"
    }
  },
  "cells": [
    {
      "cell_type": "markdown",
      "metadata": {
        "id": "view-in-github",
        "colab_type": "text"
      },
      "source": [
        "<a href=\"https://colab.research.google.com/github/Rusell-Banta/DSA-58010/blob/main/Activity_2.ipynb\" target=\"_parent\"><img src=\"https://colab.research.google.com/assets/colab-badge.svg\" alt=\"Open In Colab\"/></a>"
      ]
    },
    {
      "cell_type": "code",
      "execution_count": 41,
      "metadata": {
        "colab": {
          "base_uri": "https://localhost:8080/"
        },
        "id": "vL6v3CoaOsiA",
        "outputId": "79bacfc7-bfae-4e0e-d036-d2974ae3b099"
      },
      "outputs": [
        {
          "output_type": "stream",
          "name": "stdout",
          "text": [
            "The prime numbers that is less than 20 are: \n",
            "2\n",
            "3\n",
            "5\n",
            "7\n",
            "11\n",
            "13\n",
            "17\n",
            "19\n",
            "\n",
            "The head of the list is:  2\n",
            "The tail of the list is:  19\n"
          ]
        }
      ],
      "source": [
        "#function that creates Node object\n",
        "class Node:\n",
        "  def __init__(self,data):\n",
        "    self.data = data    \n",
        "    self.next = None   \n",
        "    #function that creates LinkedList object\n",
        "class primeList:\n",
        "  def __init(self):\n",
        "    self.head = None \n",
        "    self.tail = None\n",
        "    self.count = 0 \n",
        "\n",
        "  def printList(self):\n",
        "    prime = self.head\n",
        "    while(prime):\n",
        "      print(prime.data)\n",
        "      prime = prime.next\n",
        "\n",
        "list = primeList()    #list of prime numbers that are less than 20\n",
        "list.head = Node(2)\n",
        "second = Node(3)\n",
        "third = Node(5)\n",
        "fourth = Node(7)\n",
        "fifth = Node(11)\n",
        "sixth = Node(13)\n",
        "seventh = Node(17)\n",
        "tail = Node(19)\n",
        "\n",
        "list.head.next=second\n",
        "second.next = third\n",
        "third.next = fourth\n",
        "fourth.next = fifth\n",
        "fifth.next = sixth\n",
        "sixth.next = seventh\n",
        "seventh.next = tail\n",
        "\n",
        "print(\"The prime numbers that is less than 20 are: \")\n",
        "list.printList()\n",
        "\n",
        "print(\"\\nThe head of the list is: \",list.head.data)\n",
        "print(\"The tail of the list is: \",seventh.next.data)\n"
      ]
    }
  ]
}
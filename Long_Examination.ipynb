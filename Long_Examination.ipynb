{
  "nbformat": 4,
  "nbformat_minor": 0,
  "metadata": {
    "colab": {
      "provenance": [],
      "authorship_tag": "ABX9TyP7rZo5O883Ve1IUfoTnDnb",
      "include_colab_link": true
    },
    "kernelspec": {
      "name": "python3",
      "display_name": "Python 3"
    },
    "language_info": {
      "name": "python"
    }
  },
  "cells": [
    {
      "cell_type": "markdown",
      "metadata": {
        "id": "view-in-github",
        "colab_type": "text"
      },
      "source": [
        "<a href=\"https://colab.research.google.com/github/Rusell-Banta/DSA-58010/blob/main/Long_Examination.ipynb\" target=\"_parent\"><img src=\"https://colab.research.google.com/assets/colab-badge.svg\" alt=\"Open In Colab\"/></a>"
      ]
    },
    {
      "cell_type": "code",
      "execution_count": 21,
      "metadata": {
        "colab": {
          "base_uri": "https://localhost:8080/"
        },
        "id": "3djbIBAOLQLp",
        "outputId": "1557f905-ba74-4df6-9e17-7b796eedeac5"
      },
      "outputs": [
        {
          "output_type": "stream",
          "name": "stdout",
          "text": [
            "Fullname:  ['Jan', 'Rusell', 'Banta']\n"
          ]
        }
      ],
      "source": [
        "arr = [\"Jan\",\"Rusell\", \"Banta\"] #displays the full name\n",
        "print (\"Fullname: \" ,arr)"
      ]
    },
    {
      "cell_type": "code",
      "source": [
        "EnterName = input(str(\"Type name: \")) #displays the reverse characters in full name\n",
        "\n",
        "ListN= list(EnterName)\n",
        "ListN.reverse()\n",
        "\n",
        "for x in ListN:\n",
        "    print(x, \" \", end='')"
      ],
      "metadata": {
        "colab": {
          "base_uri": "https://localhost:8080/"
        },
        "id": "taUp6TN0UGgg",
        "outputId": "3aa8a4fd-7c7d-4897-951d-56c3c3abe28d"
      },
      "execution_count": 24,
      "outputs": [
        {
          "output_type": "stream",
          "name": "stdout",
          "text": [
            "Type name: Jan Rusell Banta\n",
            "a  t  n  a  B     l  l  e  s  u  R     n  a  J  "
          ]
        }
      ]
    }
  ]
}
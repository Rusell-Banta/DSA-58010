{
  "nbformat": 4,
  "nbformat_minor": 0,
  "metadata": {
    "colab": {
      "name": "PracticalLabExam1.ipynb",
      "provenance": [],
      "authorship_tag": "ABX9TyM5qq5elbR9LGx8VKs6RaXV",
      "include_colab_link": true
    },
    "kernelspec": {
      "name": "python3",
      "display_name": "Python 3"
    },
    "language_info": {
      "name": "python"
    }
  },
  "cells": [
    {
      "cell_type": "markdown",
      "metadata": {
        "id": "view-in-github",
        "colab_type": "text"
      },
      "source": [
        "<a href=\"https://colab.research.google.com/github/Rusell-Banta/DSA-58010/blob/main/PracticalLabExam1.ipynb\" target=\"_parent\"><img src=\"https://colab.research.google.com/assets/colab-badge.svg\" alt=\"Open In Colab\"/></a>"
      ]
    },
    {
      "cell_type": "code",
      "execution_count": 11,
      "metadata": {
        "colab": {
          "base_uri": "https://localhost:8080/"
        },
        "id": "KlYzrgRTt2vs",
        "outputId": "ffcd2ca4-fd9a-4e7c-8b66-3834d129c570"
      },
      "outputs": [
        {
          "output_type": "stream",
          "name": "stdout",
          "text": [
            "The Even numbers are:  [26, 98, 62]\n",
            "The sum of all Even numbers is:  186\n"
          ]
        }
      ],
      "source": [
        "#Program to get the sum of all even numbers in the given set of scores\n",
        "\n",
        "list1 = [26,49,98,87,62,75]\n",
        "\n",
        "only_even = [num for num in list1 if num % 2 == 0 ]\n",
        "res = sum(only_even)\n",
        "\n",
        "print (\"The Even numbers are: \",only_even)\n",
        "print (\"The sum of all Even numbers is: \",res)\n",
        "\n"
      ]
    }
  ]
}